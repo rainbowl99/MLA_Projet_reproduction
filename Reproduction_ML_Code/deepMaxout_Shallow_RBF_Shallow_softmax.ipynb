{
 "cells": [
  {
   "cell_type": "markdown",
   "metadata": {
    "id": "Vj2BHeDtxXMC"
   },
   "source": [
    "# The validation of the generalizability of adversarial samples\n",
    "\n",
    "We have defined three network models, deep maxout network model, shallow softmax network model, and shallow RBF network model. We use the maxout network model to generate adversarial examples on the MNIST dataset, and then use the shallow softmax network model and shallow RBF network model to detect the generated adversarial examples."
   ]
  },
  {
   "cell_type": "code",
   "execution_count": 1,
   "metadata": {
    "colab": {
     "base_uri": "https://localhost:8080/"
    },
    "executionInfo": {
     "elapsed": 32160,
     "status": "ok",
     "timestamp": 1702565373475,
     "user": {
      "displayName": "jiawei luo",
      "userId": "10258302580268757040"
     },
     "user_tz": -60
    },
    "id": "fkvd-xElahvk",
    "outputId": "5e51432a-6a40-405a-fda1-c24229e465da"
   },
   "outputs": [
    {
     "name": "stdout",
     "output_type": "stream",
     "text": [
      "Downloading data from https://storage.googleapis.com/tensorflow/tf-keras-datasets/mnist.npz\n",
      "11490434/11490434 [==============================] - 0s 0us/step\n",
      "Epoch 1/5\n",
      "469/469 [==============================] - 8s 4ms/step - loss: 0.2495 - accuracy: 0.9292 - val_loss: 0.1221 - val_accuracy: 0.9639\n",
      "Epoch 2/5\n",
      "469/469 [==============================] - 2s 4ms/step - loss: 0.0993 - accuracy: 0.9711 - val_loss: 0.0920 - val_accuracy: 0.9730\n",
      "Epoch 3/5\n",
      "469/469 [==============================] - 2s 5ms/step - loss: 0.0668 - accuracy: 0.9798 - val_loss: 0.0826 - val_accuracy: 0.9740\n",
      "Epoch 4/5\n",
      "469/469 [==============================] - 2s 4ms/step - loss: 0.0491 - accuracy: 0.9854 - val_loss: 0.0768 - val_accuracy: 0.9760\n",
      "Epoch 5/5\n",
      "469/469 [==============================] - 2s 4ms/step - loss: 0.0373 - accuracy: 0.9887 - val_loss: 0.0765 - val_accuracy: 0.9762\n"
     ]
    },
    {
     "data": {
      "text/plain": [
       "<keras.src.callbacks.History at 0x794657659ba0>"
      ]
     },
     "execution_count": 1,
     "metadata": {},
     "output_type": "execute_result"
    }
   ],
   "source": [
    "import tensorflow as tf\n",
    "from tensorflow.keras import layers, models\n",
    "from tensorflow.keras.datasets import mnist\n",
    "from tensorflow.keras.utils import to_categorical\n",
    "\n",
    "class MaxoutLayer(layers.Layer):\n",
    "    \"\"\"\n",
    "    Customizing the Maxout Layer\n",
    "    \"\"\"\n",
    "    def __init__(self, units, num_pieces, **kwargs):\n",
    "        super(MaxoutLayer, self).__init__(**kwargs)\n",
    "        self.units = units\n",
    "        self.num_pieces = num_pieces\n",
    "\n",
    "    def call(self, inputs):\n",
    "        # Reshape the input to (batch_size, units, num_pieces)\n",
    "        inputs = tf.reshape(inputs, (-1, self.units, self.num_pieces))\n",
    "        # Get the maximum value in each group\n",
    "        return tf.reduce_max(inputs, axis=-1)\n",
    "\n",
    "def create_maxout_model(input_shape, num_classes, units=256, num_pieces=2):\n",
    "    \"\"\"\n",
    "    Create a Maxout network model, using a custom Maxout\n",
    "    :param input_shape: shape of the input data\n",
    "    :param num_classes: Number of output categories\n",
    "    :param units: Number of neuron units\n",
    "    :param num_pieces: Maxout Number of slices per cell\n",
    "    :return: Maxout network model\n",
    "    \"\"\"\n",
    "    model = models.Sequential()\n",
    "    model.add(layers.Dense(units * num_pieces, input_shape=input_shape))\n",
    "    model.add(MaxoutLayer(units, num_pieces))\n",
    "    model.add(layers.Flatten())\n",
    "    model.add(layers.Dense(num_classes, activation='softmax'))\n",
    "    return model\n",
    "\n",
    "# load MNIST data\n",
    "(x_train, y_train), (x_test, y_test) = mnist.load_data()\n",
    "\n",
    "# Pre-processed data\n",
    "x_train = x_train.reshape((x_train.shape[0], -1)).astype('float32') / 255\n",
    "x_test = x_test.reshape((x_test.shape[0], -1)).astype('float32') / 255\n",
    "y_train = to_categorical(y_train, 10)\n",
    "y_test = to_categorical(y_test, 10)\n",
    "\n",
    "# Creating a Maxout model\n",
    "maxout_model = create_maxout_model(input_shape=(784,), num_classes=10)\n",
    "\n",
    "# compilation model\n",
    "maxout_model.compile(optimizer='adam', loss='categorical_crossentropy', metrics=['accuracy'])\n",
    "\n",
    "# Training Models\n",
    "maxout_model.fit(x_train, y_train, epochs=5, batch_size=128, validation_data=(x_test, y_test))\n"
   ]
  },
  {
   "cell_type": "code",
   "execution_count": 2,
   "metadata": {
    "colab": {
     "base_uri": "https://localhost:8080/"
    },
    "executionInfo": {
     "elapsed": 9606,
     "status": "ok",
     "timestamp": 1702565383071,
     "user": {
      "displayName": "jiawei luo",
      "userId": "10258302580268757040"
     },
     "user_tz": -60
    },
    "id": "5Yy2bZ76alXv",
    "outputId": "232d8dbc-6840-418a-f166-1506936f5029"
   },
   "outputs": [
    {
     "name": "stdout",
     "output_type": "stream",
     "text": [
      "Epoch 1/5\n",
      "469/469 [==============================] - 3s 5ms/step - loss: 0.6691 - accuracy: 0.8360 - val_loss: 0.3824 - val_accuracy: 0.9009\n",
      "Epoch 2/5\n",
      "469/469 [==============================] - 2s 3ms/step - loss: 0.3620 - accuracy: 0.9021 - val_loss: 0.3184 - val_accuracy: 0.9129\n",
      "Epoch 3/5\n",
      "469/469 [==============================] - 2s 3ms/step - loss: 0.3196 - accuracy: 0.9115 - val_loss: 0.2995 - val_accuracy: 0.9162\n",
      "Epoch 4/5\n",
      "469/469 [==============================] - 2s 3ms/step - loss: 0.2996 - accuracy: 0.9165 - val_loss: 0.2850 - val_accuracy: 0.9209\n",
      "Epoch 5/5\n",
      "469/469 [==============================] - 2s 3ms/step - loss: 0.2878 - accuracy: 0.9205 - val_loss: 0.2781 - val_accuracy: 0.9228\n"
     ]
    },
    {
     "data": {
      "text/plain": [
       "<keras.src.callbacks.History at 0x7946572ea3e0>"
      ]
     },
     "execution_count": 2,
     "metadata": {},
     "output_type": "execute_result"
    }
   ],
   "source": [
    "def create_softmax_model(input_shape, num_classes):\n",
    "    \"\"\"\n",
    "    Creating a shallow Softmax network model\n",
    "    :param input_shape: Shape of input data\n",
    "    :param num_classes: Number of output categories\n",
    "    :return: Softmax network model\n",
    "    \"\"\"\n",
    "    model = models.Sequential()\n",
    "    model.add(layers.Flatten(input_shape=input_shape))\n",
    "    model.add(layers.Dense(num_classes, activation='softmax'))\n",
    "    return model\n",
    "\n",
    "# Creating a shallow Softmax model\n",
    "softmax_model = create_softmax_model(input_shape=(784,), num_classes=10)\n",
    "\n",
    "# compilation model\n",
    "softmax_model.compile(optimizer='adam', loss='categorical_crossentropy', metrics=['accuracy'])\n",
    "\n",
    "# Training Models\n",
    "softmax_model.fit(x_train, y_train, epochs=5, batch_size=128, validation_data=(x_test, y_test))\n"
   ]
  },
  {
   "cell_type": "code",
   "execution_count": 3,
   "metadata": {
    "colab": {
     "base_uri": "https://localhost:8080/"
    },
    "executionInfo": {
     "elapsed": 40546,
     "status": "ok",
     "timestamp": 1702565423608,
     "user": {
      "displayName": "jiawei luo",
      "userId": "10258302580268757040"
     },
     "user_tz": -60
    },
    "id": "j7Buwcawanka",
    "outputId": "c546871d-e0d6-42b6-898e-1c28bc9e9136"
   },
   "outputs": [
    {
     "name": "stdout",
     "output_type": "stream",
     "text": [
      "Epoch 1/5\n",
      "469/469 [==============================] - 9s 18ms/step - loss: 1.7971 - accuracy: 0.4989 - val_loss: 1.2182 - val_accuracy: 0.7462\n",
      "Epoch 2/5\n",
      "469/469 [==============================] - 7s 16ms/step - loss: 0.8295 - accuracy: 0.8284 - val_loss: 0.5953 - val_accuracy: 0.8690\n",
      "Epoch 3/5\n",
      "469/469 [==============================] - 7s 16ms/step - loss: 0.5256 - accuracy: 0.8786 - val_loss: 0.4465 - val_accuracy: 0.8970\n",
      "Epoch 4/5\n",
      "469/469 [==============================] - 8s 18ms/step - loss: 0.4260 - accuracy: 0.8985 - val_loss: 0.3762 - val_accuracy: 0.9114\n",
      "Epoch 5/5\n",
      "469/469 [==============================] - 7s 16ms/step - loss: 0.3700 - accuracy: 0.9094 - val_loss: 0.3340 - val_accuracy: 0.9198\n"
     ]
    },
    {
     "data": {
      "text/plain": [
       "<keras.src.callbacks.History at 0x7946571ac5b0>"
      ]
     },
     "execution_count": 3,
     "metadata": {},
     "output_type": "execute_result"
    }
   ],
   "source": [
    "class RBFLayer(layers.Layer):\n",
    "    def __init__(self, units, gamma, **kwargs):\n",
    "        super(RBFLayer, self).__init__(**kwargs)\n",
    "        self.units = units\n",
    "        self.gamma = gamma\n",
    "\n",
    "    def build(self, input_shape):\n",
    "        self.centers = self.add_weight(name='centers',\n",
    "                                       shape=(self.units, input_shape[1]),\n",
    "                                       initializer='uniform',\n",
    "                                       trainable=True)\n",
    "        super(RBFLayer, self).build(input_shape)\n",
    "\n",
    "    def call(self, inputs):\n",
    "        # Expanding the dimensions of inputs and centers for easier computation\n",
    "        expanded_inputs = tf.expand_dims(inputs, 1)  # Shape: (batch_size, 1, num_features)\n",
    "        expanded_centers = tf.expand_dims(self.centers, 0)  # Shape: (1, units, num_features)\n",
    "        # Calculate the Euclidean distance\n",
    "        distances = tf.reduce_sum(tf.square(expanded_inputs - expanded_centers), axis=-1)\n",
    "        # Applying RBF Functions\n",
    "        return tf.exp(-self.gamma * distances)\n",
    "\n",
    "def create_rbf_model(input_shape, num_classes, units=128, gamma=1.0):\n",
    "    model = models.Sequential()\n",
    "    model.add(RBFLayer(units, gamma, input_shape=input_shape))\n",
    "    model.add(layers.Dense(num_classes, activation='softmax'))\n",
    "    return model\n",
    "\n",
    "# Creating shallow RBF models\n",
    "rbf_model = create_rbf_model(input_shape=(784,), num_classes=10, units=512, gamma=0.05)\n",
    "\n",
    "# compilation model\n",
    "rbf_model.compile(optimizer='adam', loss='categorical_crossentropy', metrics=['accuracy'])\n",
    "\n",
    "# Training Models\n",
    "rbf_model.fit(x_train, y_train, epochs=5, batch_size=128, validation_data=(x_test, y_test))\n",
    "\n",
    "\n"
   ]
  },
  {
   "cell_type": "code",
   "execution_count": 4,
   "metadata": {
    "colab": {
     "base_uri": "https://localhost:8080/"
    },
    "executionInfo": {
     "elapsed": 11245,
     "status": "ok",
     "timestamp": 1702565434844,
     "user": {
      "displayName": "jiawei luo",
      "userId": "10258302580268757040"
     },
     "user_tz": -60
    },
    "id": "K_KFs2dKetbj",
    "outputId": "79705db7-0b66-4e31-b15b-c2932cb709a0"
   },
   "outputs": [
    {
     "name": "stdout",
     "output_type": "stream",
     "text": [
      "1875/1875 [==============================] - 5s 3ms/step - loss: 53.7344 - accuracy: 0.0019\n",
      "Adversarial Loss: 53.73444747924805, Adversarial Accuracy: 0.0019166666315868497\n"
     ]
    }
   ],
   "source": [
    "# Functions for creating adversarial samples\n",
    "def create_adversarial_pattern(input_image, input_label, model, epsilon=0.1):\n",
    "    input_image = tf.convert_to_tensor(input_image, dtype=tf.float32)\n",
    "    input_label = tf.convert_to_tensor(input_label, dtype=tf.float32)\n",
    "    loss_object = tf.keras.losses.CategoricalCrossentropy()\n",
    "    with tf.GradientTape() as tape:\n",
    "        tape.watch(input_image)\n",
    "        prediction = model(input_image)\n",
    "        loss = loss_object(input_label, prediction)\n",
    "    gradient = tape.gradient(loss, input_image)\n",
    "    signed_grad = tf.sign(gradient)\n",
    "    perturbations = epsilon * signed_grad\n",
    "    return perturbations\n",
    "\n",
    "# Generating Adversarial Samples\n",
    "epsilon = 0.25  # The size of the perturbation\n",
    "perturbations = create_adversarial_pattern(x_train, y_train, maxout_model, epsilon=epsilon)\n",
    "adv_x_train = x_train + perturbations.numpy()\n",
    "\n",
    "# Evaluating model performance on adversarial samples\n",
    "adv_loss, adv_accuracy = maxout_model.evaluate(adv_x_train, y_train)\n",
    "print(f'Adversarial Loss: {adv_loss}, Adversarial Accuracy: {adv_accuracy}')\n"
   ]
  },
  {
   "cell_type": "code",
   "execution_count": 5,
   "metadata": {
    "colab": {
     "base_uri": "https://localhost:8080/"
    },
    "executionInfo": {
     "elapsed": 12442,
     "status": "ok",
     "timestamp": 1702565447275,
     "user": {
      "displayName": "jiawei luo",
      "userId": "10258302580268757040"
     },
     "user_tz": -60
    },
    "id": "pD4Y5m-sfdNr",
    "outputId": "a751f7c1-4fcc-4be6-a5bc-31339b37daff"
   },
   "outputs": [
    {
     "name": "stdout",
     "output_type": "stream",
     "text": [
      "1875/1875 [==============================] - 5s 3ms/step - loss: 13.5632 - accuracy: 0.0196\n",
      "Softmax Model - Adversarial Loss: 13.56315803527832, Adversarial Accuracy: 0.019600000232458115\n",
      "1875/1875 [==============================] - 7s 3ms/step - loss: 2.1784 - accuracy: 0.1821\n",
      "RBF Model - Adversarial Loss: 2.178393840789795, Adversarial Accuracy: 0.1820833384990692\n"
     ]
    }
   ],
   "source": [
    "# Evaluating the Performance of Softmax Models on Adversarial Samples\n",
    "adv_loss_softmax, adv_accuracy_softmax = softmax_model.evaluate(adv_x_train, y_train)\n",
    "print(f'Softmax Model - Adversarial Loss: {adv_loss_softmax}, Adversarial Accuracy: {adv_accuracy_softmax}')\n",
    "\n",
    "# Evaluating the performance of RBF models on adversarial samples\n",
    "adv_loss_rbf, adv_accuracy_rbf = rbf_model.evaluate(adv_x_train, y_train)\n",
    "print(f'RBF Model - Adversarial Loss: {adv_loss_rbf}, Adversarial Accuracy: {adv_accuracy_rbf}')\n"
   ]
  },
  {
   "cell_type": "markdown",
   "metadata": {
    "id": "Yvf27NBM2_CP"
   },
   "source": []
  }
 ],
 "metadata": {
  "accelerator": "GPU",
  "colab": {
   "gpuType": "T4",
   "provenance": []
  },
  "kernelspec": {
   "display_name": "Python 3 (ipykernel)",
   "language": "python",
   "name": "python3"
  },
  "language_info": {
   "codemirror_mode": {
    "name": "ipython",
    "version": 3
   },
   "file_extension": ".py",
   "mimetype": "text/x-python",
   "name": "python",
   "nbconvert_exporter": "python",
   "pygments_lexer": "ipython3",
   "version": "3.10.6"
  }
 },
 "nbformat": 4,
 "nbformat_minor": 4
}
